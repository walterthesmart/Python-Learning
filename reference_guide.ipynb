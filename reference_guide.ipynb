{
 "cells": [
  {
   "cell_type": "code",
   "execution_count": null,
   "id": "d0503000",
   "metadata": {},
   "outputs": [],
   "source": []
  },
  {
   "cell_type": "markdown",
   "id": "71ed3d22",
   "metadata": {},
   "source": [
    "# Python Class Exercises"
   ]
  },
  {
   "cell_type": "code",
   "execution_count": null,
   "id": "f9eb796c",
   "metadata": {},
   "outputs": [],
   "source": []
  },
  {
   "cell_type": "code",
   "execution_count": null,
   "id": "f6bd1599",
   "metadata": {},
   "outputs": [],
   "source": [
    "class Circle:\n",
    "    import math\n",
    "    pi = math.pi\n",
    "    def __init__(self, radius):\n",
    "        self.radius = radius\n",
    "\n",
    "    def circumference(self):\n",
    "        return 2 * Circle.pi * self.radius\n",
    "    \n",
    "    def area(self):\n",
    "        return self.pi * self.radius**2\n",
    "\n",
    "bigCircle = Circle(8)\n",
    "print(bigCircle.circumference())\n",
    "\n",
    "Area = Circle(10)\n",
    "print(Area.area())"
   ]
  },
  {
   "cell_type": "markdown",
   "id": "0e8ec677",
   "metadata": {},
   "source": [
    "Inheritance \n"
   ]
  },
  {
   "cell_type": "code",
   "execution_count": null,
   "id": "02b77f1b",
   "metadata": {},
   "outputs": [],
   "source": [
    "class Human:\n",
    "    def __init__(self):\n",
    "        self.num_eyes = 2\n",
    "        self.num_nose = 1\n",
    "\n",
    "    def eat(self):\n",
    "        print(\"I can eat\")\n",
    "    def work(self):\n",
    "        print(\"I can work.\")\n",
    "\n",
    "class Male(Human):\n",
    "    def flirt(self):\n",
    "        print(\"I can flirt.\")\n",
    "\n",
    "\n",
    "#Overriding the attribute of the super class\n",
    "    def work(self):\n",
    "        super().work()\n",
    "        print(\"I can code.\")\n",
    "\n",
    "male_1 = Male()\n",
    "male_1.eat()\n",
    "male_1.flirt()\n",
    "male_1.work()\n",
    "print(male_1.num_eyes)"
   ]
  },
  {
   "cell_type": "code",
   "execution_count": null,
   "id": "7c3e0a42",
   "metadata": {},
   "outputs": [],
   "source": [
    "print('This will print some text')"
   ]
  },
  {
   "cell_type": "code",
   "execution_count": null,
   "id": "3ec022ba",
   "metadata": {},
   "outputs": [],
   "source": [
    "# Use string formatting (\"f-strings\") to insert values\n",
    "name = 'Ryan'\n",
    "f'My name is: {name}'"
   ]
  },
  {
   "cell_type": "code",
   "execution_count": null,
   "id": "1ab7a06a",
   "metadata": {},
   "outputs": [],
   "source": [
    "# An iterable object containing sequential integers\n",
    "range(0, 10)\n",
    "\n",
    "# Iterate by steps of 2\n",
    "range(0, 10, 2)"
   ]
  },
  {
   "cell_type": "code",
   "execution_count": null,
   "id": "835fcf5c",
   "metadata": {},
   "outputs": [],
   "source": [
    "# Returns the datatype of the value passed in\n",
    "type(1)"
   ]
  },
  {
   "cell_type": "markdown",
   "id": "e38dc92b",
   "metadata": {},
   "source": [
    "## Math Operators"
   ]
  },
  {
   "cell_type": "code",
   "execution_count": null,
   "id": "cdf9ab4a",
   "metadata": {},
   "outputs": [],
   "source": [
    "# Addition\n",
    "1 + 1"
   ]
  },
  {
   "cell_type": "code",
   "execution_count": null,
   "id": "563311f2",
   "metadata": {},
   "outputs": [],
   "source": [
    "# Subtraction\n",
    "2 - 1"
   ]
  },
  {
   "cell_type": "code",
   "execution_count": null,
   "id": "29ee6dd9",
   "metadata": {},
   "outputs": [],
   "source": [
    "# Multiplication\n",
    "5 * 5"
   ]
  },
  {
   "cell_type": "code",
   "execution_count": null,
   "id": "09a49593",
   "metadata": {},
   "outputs": [],
   "source": [
    "# Division\n",
    "25 / 5"
   ]
  },
  {
   "cell_type": "code",
   "execution_count": null,
   "id": "6707e4e5",
   "metadata": {},
   "outputs": [],
   "source": [
    "# Exponents \n",
    "5 ** 3"
   ]
  },
  {
   "cell_type": "code",
   "execution_count": null,
   "id": "659df18d",
   "metadata": {},
   "outputs": [],
   "source": [
    "# Modulus (remainder after division)\n",
    "17 % 5"
   ]
  },
  {
   "cell_type": "markdown",
   "id": "2b890997",
   "metadata": {},
   "source": [
    "## Data Types"
   ]
  },
  {
   "cell_type": "code",
   "execution_count": null,
   "id": "0e3bde08",
   "metadata": {},
   "outputs": [],
   "source": [
    "# Integers\n",
    "x = 1\n",
    "type(x)"
   ]
  },
  {
   "cell_type": "code",
   "execution_count": null,
   "id": "b2dd1551",
   "metadata": {},
   "outputs": [],
   "source": [
    "# Floats\n",
    "x = 1.0\n",
    "type(x)"
   ]
  },
  {
   "cell_type": "code",
   "execution_count": null,
   "id": "a981a3d0",
   "metadata": {},
   "outputs": [],
   "source": [
    "# Strings\n",
    "x = 'Ryan'\n",
    "type(x)"
   ]
  },
  {
   "cell_type": "code",
   "execution_count": null,
   "id": "b36870dc",
   "metadata": {},
   "outputs": [],
   "source": [
    "# Booleans\n",
    "x = True\n",
    "type(x)"
   ]
  },
  {
   "cell_type": "code",
   "execution_count": null,
   "id": "281f4c7c",
   "metadata": {},
   "outputs": [],
   "source": [
    "# Byte data\n",
    "x = bytes(4)\n",
    "type(x)"
   ]
  },
  {
   "cell_type": "markdown",
   "id": "b20d6ca4",
   "metadata": {},
   "source": [
    "### Casting Datatypes"
   ]
  },
  {
   "cell_type": "code",
   "execution_count": null,
   "id": "5aa946e4",
   "metadata": {},
   "outputs": [],
   "source": [
    "# String to integer\n",
    "int('1')"
   ]
  },
  {
   "cell_type": "code",
   "execution_count": null,
   "id": "ab1c3cf2",
   "metadata": {},
   "outputs": [],
   "source": [
    "# Float to integer\n",
    "int(1.5)"
   ]
  },
  {
   "cell_type": "code",
   "execution_count": null,
   "id": "5ae89ef1",
   "metadata": {},
   "outputs": [],
   "source": [
    "# Integer to float\n",
    "float(1)"
   ]
  },
  {
   "cell_type": "code",
   "execution_count": null,
   "id": "844ab9ce",
   "metadata": {},
   "outputs": [],
   "source": [
    "# Integer to boolean\n",
    "bool(1)"
   ]
  },
  {
   "cell_type": "code",
   "execution_count": null,
   "id": "ede2547c",
   "metadata": {},
   "outputs": [],
   "source": [
    "# String to boolean (Anything other than an empty string is True)\n",
    "bool('')"
   ]
  },
  {
   "cell_type": "code",
   "execution_count": null,
   "id": "2158dae1",
   "metadata": {},
   "outputs": [],
   "source": [
    "# Int to string\n",
    "str(1)"
   ]
  },
  {
   "cell_type": "code",
   "execution_count": null,
   "id": "26ff8624",
   "metadata": {},
   "outputs": [],
   "source": [
    "# String to bytes, requires the encoding\n",
    "bytes('🙂', 'utf-8')"
   ]
  },
  {
   "cell_type": "markdown",
   "id": "fe277050",
   "metadata": {},
   "source": [
    "## String Operators"
   ]
  },
  {
   "cell_type": "code",
   "execution_count": null,
   "id": "39bd5f9a",
   "metadata": {},
   "outputs": [],
   "source": [
    "# String concatenation\n",
    "'Ryan ' + 'Mitchell'"
   ]
  },
  {
   "cell_type": "code",
   "execution_count": null,
   "id": "ae71aefe",
   "metadata": {},
   "outputs": [],
   "source": [
    "# String multiplication\n",
    "'Python'*6"
   ]
  },
  {
   "cell_type": "code",
   "execution_count": null,
   "id": "37fbcde4",
   "metadata": {},
   "outputs": [],
   "source": [
    "# Access a particular character in a string\n",
    "'Python'[3]"
   ]
  },
  {
   "cell_type": "markdown",
   "id": "cdd3e0cd",
   "metadata": {},
   "source": [
    "## Boolean Operators"
   ]
  },
  {
   "cell_type": "code",
   "execution_count": null,
   "id": "ba869927",
   "metadata": {},
   "outputs": [],
   "source": [
    "# AND\n",
    "print(True and True)\n",
    "print(True and False)\n",
    "print(False and False)"
   ]
  },
  {
   "cell_type": "code",
   "execution_count": null,
   "id": "28b2fa5f",
   "metadata": {},
   "outputs": [],
   "source": [
    "# OR\n",
    "print(True or True)\n",
    "print(True or False)\n",
    "print(False or False)"
   ]
  },
  {
   "cell_type": "code",
   "execution_count": null,
   "id": "bc55ebf9",
   "metadata": {},
   "outputs": [],
   "source": [
    "# NOT \n",
    "print(not True)\n",
    "print(not False)"
   ]
  },
  {
   "cell_type": "code",
   "execution_count": null,
   "id": "35e8e720",
   "metadata": {},
   "outputs": [],
   "source": [
    "# Equality operator\n",
    "5 == 5"
   ]
  },
  {
   "cell_type": "code",
   "execution_count": null,
   "id": "f1306639",
   "metadata": {},
   "outputs": [],
   "source": [
    "# Inequality operator\n",
    "5 != 4"
   ]
  },
  {
   "cell_type": "code",
   "execution_count": null,
   "id": "5ec97ec8",
   "metadata": {},
   "outputs": [],
   "source": [
    "# Less than\n",
    "4 < 5"
   ]
  },
  {
   "cell_type": "code",
   "execution_count": null,
   "id": "e20ef2df",
   "metadata": {},
   "outputs": [],
   "source": [
    "# Less than or equals to \n",
    "5 <= 5"
   ]
  },
  {
   "cell_type": "code",
   "execution_count": null,
   "id": "09cc20bc",
   "metadata": {},
   "outputs": [],
   "source": [
    "# Greater than\n",
    "5 > 4"
   ]
  },
  {
   "cell_type": "code",
   "execution_count": null,
   "id": "b60907e6",
   "metadata": {},
   "outputs": [],
   "source": [
    "# Greater than or equals to\n",
    "5 >= 5"
   ]
  },
  {
   "cell_type": "markdown",
   "id": "2a2e7267",
   "metadata": {},
   "source": [
    "## Control Flow"
   ]
  },
  {
   "cell_type": "code",
   "execution_count": null,
   "id": "d50b0640",
   "metadata": {},
   "outputs": [],
   "source": []
  },
  {
   "cell_type": "code",
   "execution_count": null,
   "id": "cb4e8515",
   "metadata": {},
   "outputs": [],
   "source": [
    "if False: \n",
    "    print('This does not print')\n",
    "else: \n",
    "    print('This will print')"
   ]
  },
  {
   "cell_type": "code",
   "execution_count": null,
   "id": "8e2abd4c",
   "metadata": {},
   "outputs": [],
   "source": [
    "# Iterate through items in a range\n",
    "for i in range(0, 5):\n",
    "    print('Number: {}'.format(i))"
   ]
  },
  {
   "cell_type": "code",
   "execution_count": null,
   "id": "9fffb55a",
   "metadata": {},
   "outputs": [],
   "source": [
    "# Iterate through items in a list\n",
    "for i in [1,2,3,4,5]:\n",
    "    print('Number: {}'.format(i))"
   ]
  },
  {
   "cell_type": "code",
   "execution_count": null,
   "id": "d3644b73",
   "metadata": {},
   "outputs": [],
   "source": [
    "i = 0\n",
    "while i < 5:\n",
    "    print('Number: {}'.format(i))\n",
    "    i = i + 1"
   ]
  },
  {
   "cell_type": "markdown",
   "id": "d3e111af",
   "metadata": {},
   "source": [
    "## Data Types"
   ]
  },
  {
   "cell_type": "markdown",
   "id": "6cd23c41",
   "metadata": {},
   "source": [
    "### Lists"
   ]
  },
  {
   "cell_type": "code",
   "execution_count": null,
   "id": "1652a902",
   "metadata": {},
   "outputs": [],
   "source": [
    "aList = [1,2,3,4]\n",
    "type(aList)"
   ]
  },
  {
   "cell_type": "code",
   "execution_count": null,
   "id": "6190492f",
   "metadata": {},
   "outputs": [],
   "source": [
    "# Append item to a list\n",
    "aList.append(5)\n",
    "aList"
   ]
  },
  {
   "cell_type": "code",
   "execution_count": null,
   "id": "0c73fb6f",
   "metadata": {},
   "outputs": [],
   "source": [
    "# List concatenation\n",
    "[1,2,3] + [4,5,6]"
   ]
  },
  {
   "cell_type": "code",
   "execution_count": null,
   "id": "2f429961",
   "metadata": {},
   "outputs": [],
   "source": [
    "# List multiplication\n",
    "[1,2] * 5"
   ]
  },
  {
   "cell_type": "code",
   "execution_count": null,
   "id": "8dc04f2c",
   "metadata": {},
   "outputs": [],
   "source": [
    "# Accessing items in a list\n",
    "\n",
    "aList = [1,2,3,4,5,6,7,8,9,10]\n",
    "# Print the item at index 4\n",
    "print(aList[4])\n",
    "\n",
    "# Print the items at index 0, up to (not including) index 4\n",
    "print(aList[0:4])\n",
    "\n",
    "# If the first index is missing, it's assumed to be 0\n",
    "print(aList[:4])\n",
    "\n",
    "# If the last index is missing, it's assumed to go to the end of the list\n",
    "print(aList[4:])\n",
    "\n",
    "# Print every other item in the list\n",
    "print(aList[::2])\n",
    "\n",
    "# Print every third item in the list\n",
    "print(aList[::3])"
   ]
  },
  {
   "cell_type": "markdown",
   "id": "a7307ea7",
   "metadata": {},
   "source": [
    "### Dictionaries"
   ]
  },
  {
   "cell_type": "code",
   "execution_count": null,
   "id": "c167cdcf",
   "metadata": {
    "scrolled": true
   },
   "outputs": [],
   "source": [
    "aDict = {\n",
    "    'one': 1,\n",
    "    'two': 2,\n",
    "    'three': 3,\n",
    "}\n",
    "# Add key/value pairs to dictionary\n",
    "aDict['four'] = 4\n",
    "\n",
    "# Access values by keys\n",
    "print(aDict['one'])"
   ]
  },
  {
   "cell_type": "code",
   "execution_count": null,
   "id": "08a785bc",
   "metadata": {},
   "outputs": [],
   "source": [
    "# Print all keys\n",
    "print(aDict.keys())\n",
    "\n",
    "# Print all values\n",
    "print(aDict.values())\n",
    "\n",
    "# Print all key/value pairs\n",
    "print(aDict.items())"
   ]
  },
  {
   "cell_type": "markdown",
   "id": "5d90663f",
   "metadata": {},
   "source": [
    "### Sets"
   ]
  },
  {
   "cell_type": "code",
   "execution_count": null,
   "id": "5a6bcf01",
   "metadata": {},
   "outputs": [],
   "source": [
    "aSet = {1,2,3,4}\n",
    "\n",
    "# Add an item to a set\n",
    "aSet.add(5)\n",
    "\n",
    "# Remove an item from a set\n",
    "aSet.remove(2)\n",
    "print(aSet)"
   ]
  },
  {
   "cell_type": "markdown",
   "id": "a8a25d64",
   "metadata": {},
   "source": [
    "### Tuples"
   ]
  },
  {
   "cell_type": "code",
   "execution_count": null,
   "id": "aade96be",
   "metadata": {},
   "outputs": [],
   "source": [
    "# Tuples cannot be modified\n",
    "aTuple = (1,2,3,4)\n",
    "aTuple"
   ]
  },
  {
   "cell_type": "markdown",
   "id": "b57deb09",
   "metadata": {},
   "source": [
    "## Functions"
   ]
  },
  {
   "cell_type": "code",
   "execution_count": null,
   "id": "a6aa39d0",
   "metadata": {},
   "outputs": [],
   "source": [
    "# Function with one argument and a return value\n",
    "def aFunction(anArg):\n",
    "    return anArg + 1\n",
    "\n",
    "aFunction(5)"
   ]
  },
  {
   "cell_type": "code",
   "execution_count": null,
   "id": "c4d61e84",
   "metadata": {},
   "outputs": [],
   "source": [
    "# Different ways of calling a function with a keyword argument\n",
    "def aFunction(anArg, optionalArg=1):\n",
    "    return anArg + optionalArg\n",
    "\n",
    "print(aFunction(5))\n",
    "print(aFunction(5, 4))\n",
    "print(aFunction(5, optionalArg=4))"
   ]
  },
  {
   "cell_type": "markdown",
   "id": "bed429aa",
   "metadata": {},
   "source": [
    "## Classes"
   ]
  },
  {
   "cell_type": "code",
   "execution_count": null,
   "id": "fbfbb1ac",
   "metadata": {},
   "outputs": [],
   "source": [
    "# A simple class with one attribute and one method\n",
    "class ParentClass:\n",
    "    def __init__(self, val):\n",
    "        self.val = val\n",
    "        \n",
    "    def printVal(self):\n",
    "        print(self.val)\n",
    "        \n",
    "\n",
    "classInstance = ParentClass('Value for the class attribute \"val\"')\n",
    "classInstance.printVal()"
   ]
  },
  {
   "cell_type": "code",
   "execution_count": null,
   "id": "01e3544e",
   "metadata": {},
   "outputs": [],
   "source": [
    "# Extend the parent class to create a child class        \n",
    "class ChildClass(parentClass):\n",
    "    \n",
    "    def printVal(self):\n",
    "        print('Child class! {}'.format(self.val))\n",
    "        \n",
    "childInstance = ChildClass('Value for the class attribute \"val\"')\n",
    "childInstance.printVal()   "
   ]
  },
  {
   "cell_type": "code",
   "execution_count": null,
   "id": "3cc855fa",
   "metadata": {},
   "outputs": [],
   "source": [
    "# Overriding the parent class constructor\n",
    "class AnotherChildClass(parentClass):\n",
    "    def __init__(self):\n",
    "        super().__init__('A default value')\n",
    "        \n",
    "anotherChildInstance = AnotherChildClass()\n",
    "anotherChildInstance.printVal()"
   ]
  },
  {
   "cell_type": "markdown",
   "id": "55741ea8",
   "metadata": {},
   "source": [
    "## File Handling"
   ]
  },
  {
   "cell_type": "code",
   "execution_count": null,
   "id": "21ebdf42",
   "metadata": {},
   "outputs": [],
   "source": [
    "# Open a file for reading\n",
    "with open('09_01_file.txt', 'r') as f:\n",
    "    data = f.readlines()\n",
    "print(data)"
   ]
  },
  {
   "cell_type": "code",
   "execution_count": null,
   "id": "a374618f",
   "metadata": {},
   "outputs": [],
   "source": [
    "with open('test.txt', 'w') as f:\n",
    "    f.write('Writing a new line\\n')"
   ]
  },
  {
   "cell_type": "code",
   "execution_count": null,
   "id": "7d69598c",
   "metadata": {},
   "outputs": [],
   "source": [
    "with open('test.txt', 'a') as f:\n",
    "    f.write('Adding a new line to the last one\\n')"
   ]
  }
 ],
 "metadata": {
  "kernelspec": {
   "display_name": "Python 3 (ipykernel)",
   "language": "python",
   "name": "python3"
  },
  "language_info": {
   "codemirror_mode": {
    "name": "ipython",
    "version": 3
   },
   "file_extension": ".py",
   "mimetype": "text/x-python",
   "name": "python",
   "nbconvert_exporter": "python",
   "pygments_lexer": "ipython3",
   "version": "3.11.5"
  }
 },
 "nbformat": 4,
 "nbformat_minor": 5
}
